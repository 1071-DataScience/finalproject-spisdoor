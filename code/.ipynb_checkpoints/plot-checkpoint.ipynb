{
 "cells": [
  {
   "cell_type": "code",
   "execution_count": 1,
   "metadata": {},
   "outputs": [
    {
     "name": "stderr",
     "output_type": "stream",
     "text": [
      "c:\\users\\myps9\\appdata\\local\\programs\\python\\python37\\lib\\site-packages\\IPython\\core\\interactiveshell.py:3020: DtypeWarning: Columns (0,1) have mixed types. Specify dtype option on import or set low_memory=False.\n",
      "  interactivity=interactivity, compiler=compiler, result=result)\n"
     ]
    }
   ],
   "source": [
    "import warnings\n",
    "warnings.filterwarnings(\"ignore\", category=DeprecationWarning) \n",
    "\n",
    "import pandas as pd\n",
    "\n",
    "# load dataset\n",
    "df_airline = pd.read_csv('../data/dataset/airline.csv')\n",
    "df_cache_map = pd.read_csv('../data/dataset/cache_map.csv')\n",
    "df_day_schedule = pd.read_csv('../data/dataset/day_schedule.csv')\n",
    "df_group = pd.read_csv('../data/dataset/group.csv')\n",
    "df_order = pd.read_csv('../data/dataset/order.csv')\n",
    "df_test = pd.read_csv('../data/testing-set.csv')\n",
    "df_train = pd.read_csv('../data/training-set.csv')\n",
    "%matplotlib inline \n",
    "import matplotlib.pyplot as plt\n",
    "import seaborn as sns\n",
    "sns.set_style('whitegrid')\n",
    "\n"
   ]
  },
  {
   "cell_type": "code",
   "execution_count": 2,
   "metadata": {},
   "outputs": [
    {
     "name": "stdout",
     "output_type": "stream",
     "text": [
      "<class 'pandas.core.frame.DataFrame'>\n",
      "RangeIndex: 396915 entries, 0 to 396914\n",
      "Data columns (total 7 columns):\n",
      "order_id         396915 non-null object\n",
      "group_id         396915 non-null object\n",
      "order_date       396915 non-null object\n",
      "source_1         396915 non-null object\n",
      "source_2         396915 non-null object\n",
      "unit             396915 non-null object\n",
      "people_amount    396915 non-null int64\n",
      "dtypes: int64(1), object(6)\n",
      "memory usage: 21.2+ MB\n"
     ]
    }
   ],
   "source": [
    "df_order.info()"
   ]
  },
  {
   "cell_type": "code",
   "execution_count": 3,
   "metadata": {},
   "outputs": [
    {
     "data": {
      "text/html": [
       "<div>\n",
       "<style scoped>\n",
       "    .dataframe tbody tr th:only-of-type {\n",
       "        vertical-align: middle;\n",
       "    }\n",
       "\n",
       "    .dataframe tbody tr th {\n",
       "        vertical-align: top;\n",
       "    }\n",
       "\n",
       "    .dataframe thead th {\n",
       "        text-align: right;\n",
       "    }\n",
       "</style>\n",
       "<table border=\"1\" class=\"dataframe\">\n",
       "  <thead>\n",
       "    <tr style=\"text-align: right;\">\n",
       "      <th></th>\n",
       "      <th>order_id</th>\n",
       "      <th>group_id</th>\n",
       "      <th>order_date</th>\n",
       "      <th>source_1</th>\n",
       "      <th>source_2</th>\n",
       "      <th>unit</th>\n",
       "      <th>people_amount</th>\n",
       "    </tr>\n",
       "  </thead>\n",
       "  <tbody>\n",
       "    <tr>\n",
       "      <th>0</th>\n",
       "      <td>136100</td>\n",
       "      <td>63695</td>\n",
       "      <td>5-Jan-17</td>\n",
       "      <td>src1_value_1</td>\n",
       "      <td>src2_value_1</td>\n",
       "      <td>unit_value_1</td>\n",
       "      <td>2</td>\n",
       "    </tr>\n",
       "    <tr>\n",
       "      <th>1</th>\n",
       "      <td>140370</td>\n",
       "      <td>63695</td>\n",
       "      <td>9-Nov-16</td>\n",
       "      <td>src1_value_1</td>\n",
       "      <td>src2_value_1</td>\n",
       "      <td>unit_value_2</td>\n",
       "      <td>1</td>\n",
       "    </tr>\n",
       "    <tr>\n",
       "      <th>2</th>\n",
       "      <td>211009</td>\n",
       "      <td>63695</td>\n",
       "      <td>20-Jan-17</td>\n",
       "      <td>src1_value_1</td>\n",
       "      <td>src2_value_1</td>\n",
       "      <td>unit_value_3</td>\n",
       "      <td>2</td>\n",
       "    </tr>\n",
       "    <tr>\n",
       "      <th>3</th>\n",
       "      <td>41571</td>\n",
       "      <td>53481</td>\n",
       "      <td>14-Mar-17</td>\n",
       "      <td>src1_value_1</td>\n",
       "      <td>src2_value_1</td>\n",
       "      <td>unit_value_4</td>\n",
       "      <td>4</td>\n",
       "    </tr>\n",
       "    <tr>\n",
       "      <th>4</th>\n",
       "      <td>64125</td>\n",
       "      <td>53481</td>\n",
       "      <td>27-Mar-17</td>\n",
       "      <td>src1_value_2</td>\n",
       "      <td>src2_value_1</td>\n",
       "      <td>unit_value_5</td>\n",
       "      <td>1</td>\n",
       "    </tr>\n",
       "  </tbody>\n",
       "</table>\n",
       "</div>"
      ],
      "text/plain": [
       "  order_id group_id order_date      source_1      source_2          unit  \\\n",
       "0   136100    63695   5-Jan-17  src1_value_1  src2_value_1  unit_value_1   \n",
       "1   140370    63695   9-Nov-16  src1_value_1  src2_value_1  unit_value_2   \n",
       "2   211009    63695  20-Jan-17  src1_value_1  src2_value_1  unit_value_3   \n",
       "3    41571    53481  14-Mar-17  src1_value_1  src2_value_1  unit_value_4   \n",
       "4    64125    53481  27-Mar-17  src1_value_2  src2_value_1  unit_value_5   \n",
       "\n",
       "   people_amount  \n",
       "0              2  \n",
       "1              1  \n",
       "2              2  \n",
       "3              4  \n",
       "4              1  "
      ]
     },
     "execution_count": 3,
     "metadata": {},
     "output_type": "execute_result"
    }
   ],
   "source": [
    "df_order.head(5)"
   ]
  },
  {
   "cell_type": "code",
   "execution_count": 4,
   "metadata": {},
   "outputs": [
    {
     "data": {
      "text/html": [
       "<div>\n",
       "<style scoped>\n",
       "    .dataframe tbody tr th:only-of-type {\n",
       "        vertical-align: middle;\n",
       "    }\n",
       "\n",
       "    .dataframe tbody tr th {\n",
       "        vertical-align: top;\n",
       "    }\n",
       "\n",
       "    .dataframe thead th {\n",
       "        text-align: right;\n",
       "    }\n",
       "</style>\n",
       "<table border=\"1\" class=\"dataframe\">\n",
       "  <thead>\n",
       "    <tr style=\"text-align: right;\">\n",
       "      <th></th>\n",
       "      <th>order_id</th>\n",
       "      <th>group_id</th>\n",
       "      <th>order_date</th>\n",
       "      <th>source_1</th>\n",
       "      <th>source_2</th>\n",
       "      <th>unit</th>\n",
       "      <th>people_amount</th>\n",
       "    </tr>\n",
       "  </thead>\n",
       "  <tbody>\n",
       "    <tr>\n",
       "      <th>count</th>\n",
       "      <td>396915</td>\n",
       "      <td>396915</td>\n",
       "      <td>396915</td>\n",
       "      <td>396915</td>\n",
       "      <td>396915</td>\n",
       "      <td>396915</td>\n",
       "      <td>396915.000000</td>\n",
       "    </tr>\n",
       "    <tr>\n",
       "      <th>unique</th>\n",
       "      <td>396915</td>\n",
       "      <td>45043</td>\n",
       "      <td>843</td>\n",
       "      <td>3</td>\n",
       "      <td>4</td>\n",
       "      <td>130</td>\n",
       "      <td>NaN</td>\n",
       "    </tr>\n",
       "    <tr>\n",
       "      <th>top</th>\n",
       "      <td>e5f7d80680b3cd526e4434855daec2c9</td>\n",
       "      <td>1ac092064f6c132cb8786e49ace26919</td>\n",
       "      <td>5-May-17</td>\n",
       "      <td>src1_value_1</td>\n",
       "      <td>src2_value_1</td>\n",
       "      <td>unit_value_6</td>\n",
       "      <td>NaN</td>\n",
       "    </tr>\n",
       "    <tr>\n",
       "      <th>freq</th>\n",
       "      <td>1</td>\n",
       "      <td>131</td>\n",
       "      <td>2095</td>\n",
       "      <td>271299</td>\n",
       "      <td>305353</td>\n",
       "      <td>56970</td>\n",
       "      <td>NaN</td>\n",
       "    </tr>\n",
       "    <tr>\n",
       "      <th>mean</th>\n",
       "      <td>NaN</td>\n",
       "      <td>NaN</td>\n",
       "      <td>NaN</td>\n",
       "      <td>NaN</td>\n",
       "      <td>NaN</td>\n",
       "      <td>NaN</td>\n",
       "      <td>3.207004</td>\n",
       "    </tr>\n",
       "    <tr>\n",
       "      <th>std</th>\n",
       "      <td>NaN</td>\n",
       "      <td>NaN</td>\n",
       "      <td>NaN</td>\n",
       "      <td>NaN</td>\n",
       "      <td>NaN</td>\n",
       "      <td>NaN</td>\n",
       "      <td>3.147724</td>\n",
       "    </tr>\n",
       "    <tr>\n",
       "      <th>min</th>\n",
       "      <td>NaN</td>\n",
       "      <td>NaN</td>\n",
       "      <td>NaN</td>\n",
       "      <td>NaN</td>\n",
       "      <td>NaN</td>\n",
       "      <td>NaN</td>\n",
       "      <td>1.000000</td>\n",
       "    </tr>\n",
       "    <tr>\n",
       "      <th>25%</th>\n",
       "      <td>NaN</td>\n",
       "      <td>NaN</td>\n",
       "      <td>NaN</td>\n",
       "      <td>NaN</td>\n",
       "      <td>NaN</td>\n",
       "      <td>NaN</td>\n",
       "      <td>2.000000</td>\n",
       "    </tr>\n",
       "    <tr>\n",
       "      <th>50%</th>\n",
       "      <td>NaN</td>\n",
       "      <td>NaN</td>\n",
       "      <td>NaN</td>\n",
       "      <td>NaN</td>\n",
       "      <td>NaN</td>\n",
       "      <td>NaN</td>\n",
       "      <td>2.000000</td>\n",
       "    </tr>\n",
       "    <tr>\n",
       "      <th>75%</th>\n",
       "      <td>NaN</td>\n",
       "      <td>NaN</td>\n",
       "      <td>NaN</td>\n",
       "      <td>NaN</td>\n",
       "      <td>NaN</td>\n",
       "      <td>NaN</td>\n",
       "      <td>4.000000</td>\n",
       "    </tr>\n",
       "    <tr>\n",
       "      <th>max</th>\n",
       "      <td>NaN</td>\n",
       "      <td>NaN</td>\n",
       "      <td>NaN</td>\n",
       "      <td>NaN</td>\n",
       "      <td>NaN</td>\n",
       "      <td>NaN</td>\n",
       "      <td>50.000000</td>\n",
       "    </tr>\n",
       "  </tbody>\n",
       "</table>\n",
       "</div>"
      ],
      "text/plain": [
       "                                order_id                          group_id  \\\n",
       "count                             396915                            396915   \n",
       "unique                            396915                             45043   \n",
       "top     e5f7d80680b3cd526e4434855daec2c9  1ac092064f6c132cb8786e49ace26919   \n",
       "freq                                   1                               131   \n",
       "mean                                 NaN                               NaN   \n",
       "std                                  NaN                               NaN   \n",
       "min                                  NaN                               NaN   \n",
       "25%                                  NaN                               NaN   \n",
       "50%                                  NaN                               NaN   \n",
       "75%                                  NaN                               NaN   \n",
       "max                                  NaN                               NaN   \n",
       "\n",
       "       order_date      source_1      source_2          unit  people_amount  \n",
       "count      396915        396915        396915        396915  396915.000000  \n",
       "unique        843             3             4           130            NaN  \n",
       "top      5-May-17  src1_value_1  src2_value_1  unit_value_6            NaN  \n",
       "freq         2095        271299        305353         56970            NaN  \n",
       "mean          NaN           NaN           NaN           NaN       3.207004  \n",
       "std           NaN           NaN           NaN           NaN       3.147724  \n",
       "min           NaN           NaN           NaN           NaN       1.000000  \n",
       "25%           NaN           NaN           NaN           NaN       2.000000  \n",
       "50%           NaN           NaN           NaN           NaN       2.000000  \n",
       "75%           NaN           NaN           NaN           NaN       4.000000  \n",
       "max           NaN           NaN           NaN           NaN      50.000000  "
      ]
     },
     "execution_count": 4,
     "metadata": {},
     "output_type": "execute_result"
    }
   ],
   "source": [
    "df_order.describe(include = 'all')"
   ]
  },
  {
   "cell_type": "code",
   "execution_count": 6,
   "metadata": {},
   "outputs": [
    {
     "name": "stdout",
     "output_type": "stream",
     "text": [
      "<class 'pandas.core.frame.DataFrame'>\n",
      "RangeIndex: 49223 entries, 0 to 49222\n",
      "Data columns (total 8 columns):\n",
      "group_id          49223 non-null object\n",
      "sub_line          49223 non-null object\n",
      "area              49223 non-null object\n",
      "days              49223 non-null float64\n",
      "begin_date        49223 non-null object\n",
      "price             49223 non-null float64\n",
      "product_name      49218 non-null object\n",
      "promotion_prog    49167 non-null object\n",
      "dtypes: float64(2), object(6)\n",
      "memory usage: 3.0+ MB\n"
     ]
    }
   ],
   "source": [
    "df_group.info()"
   ]
  },
  {
   "cell_type": "code",
   "execution_count": 7,
   "metadata": {},
   "outputs": [
    {
     "data": {
      "text/html": [
       "<div>\n",
       "<style scoped>\n",
       "    .dataframe tbody tr th:only-of-type {\n",
       "        vertical-align: middle;\n",
       "    }\n",
       "\n",
       "    .dataframe tbody tr th {\n",
       "        vertical-align: top;\n",
       "    }\n",
       "\n",
       "    .dataframe thead th {\n",
       "        text-align: right;\n",
       "    }\n",
       "</style>\n",
       "<table border=\"1\" class=\"dataframe\">\n",
       "  <thead>\n",
       "    <tr style=\"text-align: right;\">\n",
       "      <th></th>\n",
       "      <th>group_id</th>\n",
       "      <th>sub_line</th>\n",
       "      <th>area</th>\n",
       "      <th>days</th>\n",
       "      <th>begin_date</th>\n",
       "      <th>price</th>\n",
       "      <th>product_name</th>\n",
       "      <th>promotion_prog</th>\n",
       "    </tr>\n",
       "  </thead>\n",
       "  <tbody>\n",
       "    <tr>\n",
       "      <th>10</th>\n",
       "      <td>10206</td>\n",
       "      <td>subline_value_1</td>\n",
       "      <td>area_value_2</td>\n",
       "      <td>10.0</td>\n",
       "      <td>13-Jan-17</td>\n",
       "      <td>64900.0</td>\n",
       "      <td>玩美加族~美西優瑟美地雙樂園十日遊（優瑟美地、大峽谷國家公園、拉斯維加斯摩天輪、環球影城、迪...</td>\n",
       "      <td>※造訪世界之最，甫於2014年3月31日開幕的[BB]拉斯維加斯摩天輪[//]，30分鐘的高...</td>\n",
       "    </tr>\n",
       "    <tr>\n",
       "      <th>11</th>\n",
       "      <td>50170</td>\n",
       "      <td>subline_value_1</td>\n",
       "      <td>area_value_2</td>\n",
       "      <td>10.0</td>\n",
       "      <td>13-Jan-17</td>\n",
       "      <td>55900.0</td>\n",
       "      <td>《每月一物》美西雄好玩～大峽谷國家公園．優勝美地．環球影城．雙賭城．海景火車．金門灣遊船１０天</td>\n",
       "      <td>&amp;lt;font face=\"微軟正黑體\" size=\"2\"&amp;gt;[GG]&amp;lt;b&amp;gt...</td>\n",
       "    </tr>\n",
       "    <tr>\n",
       "      <th>12</th>\n",
       "      <td>16879</td>\n",
       "      <td>subline_value_1</td>\n",
       "      <td>area_value_3</td>\n",
       "      <td>7.0</td>\n",
       "      <td>14-Jan-17</td>\n",
       "      <td>40900.0</td>\n",
       "      <td>溫哥華西雅圖雙城7天》西雅圖派克市場．星巴克烘培工廠．亞馬遜書店．音樂博物館．玻璃館．深度溫哥華</td>\n",
       "      <td>&amp;lt;font face=\"微軟正黑體\" font size=\"3\"&amp;gt;[GG]《全新...</td>\n",
       "    </tr>\n",
       "    <tr>\n",
       "      <th>13</th>\n",
       "      <td>48758</td>\n",
       "      <td>subline_value_1</td>\n",
       "      <td>area_value_2</td>\n",
       "      <td>10.0</td>\n",
       "      <td>19-Jan-17</td>\n",
       "      <td>64900.0</td>\n",
       "      <td>玩美加族~美西優瑟美地雙樂園十日遊（優瑟美地、大峽谷國家公園、拉斯維加斯摩天輪、環球影城、迪...</td>\n",
       "      <td>※造訪世界之最，甫於2014年3月31日開幕的[BB]拉斯維加斯摩天輪[//]，30分鐘的高...</td>\n",
       "    </tr>\n",
       "    <tr>\n",
       "      <th>14</th>\n",
       "      <td>35554</td>\n",
       "      <td>subline_value_1</td>\n",
       "      <td>area_value_2</td>\n",
       "      <td>10.0</td>\n",
       "      <td>19-Jan-17</td>\n",
       "      <td>64900.0</td>\n",
       "      <td>驚奇美西～迪士尼周邊飯店、優勝美地、大峽谷天空步道、環球影城(哈利波特)、美食饗宴10日</td>\n",
       "      <td>[GG]&amp;lt;b&amp;gt;《美國旅遊》&amp;lt;/b&amp;gt;[//]19世紀流傳著一個美國夢；...</td>\n",
       "    </tr>\n",
       "  </tbody>\n",
       "</table>\n",
       "</div>"
      ],
      "text/plain": [
       "   group_id         sub_line          area  days begin_date    price  \\\n",
       "10    10206  subline_value_1  area_value_2  10.0  13-Jan-17  64900.0   \n",
       "11    50170  subline_value_1  area_value_2  10.0  13-Jan-17  55900.0   \n",
       "12    16879  subline_value_1  area_value_3   7.0  14-Jan-17  40900.0   \n",
       "13    48758  subline_value_1  area_value_2  10.0  19-Jan-17  64900.0   \n",
       "14    35554  subline_value_1  area_value_2  10.0  19-Jan-17  64900.0   \n",
       "\n",
       "                                         product_name  \\\n",
       "10  玩美加族~美西優瑟美地雙樂園十日遊（優瑟美地、大峽谷國家公園、拉斯維加斯摩天輪、環球影城、迪...   \n",
       "11    《每月一物》美西雄好玩～大峽谷國家公園．優勝美地．環球影城．雙賭城．海景火車．金門灣遊船１０天   \n",
       "12   溫哥華西雅圖雙城7天》西雅圖派克市場．星巴克烘培工廠．亞馬遜書店．音樂博物館．玻璃館．深度溫哥華   \n",
       "13  玩美加族~美西優瑟美地雙樂園十日遊（優瑟美地、大峽谷國家公園、拉斯維加斯摩天輪、環球影城、迪...   \n",
       "14       驚奇美西～迪士尼周邊飯店、優勝美地、大峽谷天空步道、環球影城(哈利波特)、美食饗宴10日   \n",
       "\n",
       "                                       promotion_prog  \n",
       "10  ※造訪世界之最，甫於2014年3月31日開幕的[BB]拉斯維加斯摩天輪[//]，30分鐘的高...  \n",
       "11  &lt;font face=\"微軟正黑體\" size=\"2\"&gt;[GG]&lt;b&gt...  \n",
       "12  &lt;font face=\"微軟正黑體\" font size=\"3\"&gt;[GG]《全新...  \n",
       "13  ※造訪世界之最，甫於2014年3月31日開幕的[BB]拉斯維加斯摩天輪[//]，30分鐘的高...  \n",
       "14  [GG]&lt;b&gt;《美國旅遊》&lt;/b&gt;[//]19世紀流傳著一個美國夢；...  "
      ]
     },
     "execution_count": 7,
     "metadata": {},
     "output_type": "execute_result"
    }
   ],
   "source": [
    "df_group[10:15]"
   ]
  },
  {
   "cell_type": "code",
   "execution_count": 8,
   "metadata": {},
   "outputs": [
    {
     "data": {
      "text/html": [
       "<div>\n",
       "<style scoped>\n",
       "    .dataframe tbody tr th:only-of-type {\n",
       "        vertical-align: middle;\n",
       "    }\n",
       "\n",
       "    .dataframe tbody tr th {\n",
       "        vertical-align: top;\n",
       "    }\n",
       "\n",
       "    .dataframe thead th {\n",
       "        text-align: right;\n",
       "    }\n",
       "</style>\n",
       "<table border=\"1\" class=\"dataframe\">\n",
       "  <thead>\n",
       "    <tr style=\"text-align: right;\">\n",
       "      <th></th>\n",
       "      <th>group_id</th>\n",
       "      <th>sub_line</th>\n",
       "      <th>area</th>\n",
       "      <th>days</th>\n",
       "      <th>begin_date</th>\n",
       "      <th>price</th>\n",
       "      <th>product_name</th>\n",
       "      <th>promotion_prog</th>\n",
       "    </tr>\n",
       "  </thead>\n",
       "  <tbody>\n",
       "    <tr>\n",
       "      <th>count</th>\n",
       "      <td>49223</td>\n",
       "      <td>49223</td>\n",
       "      <td>49223</td>\n",
       "      <td>49223.000000</td>\n",
       "      <td>49223</td>\n",
       "      <td>49223.000000</td>\n",
       "      <td>49218</td>\n",
       "      <td>49167</td>\n",
       "    </tr>\n",
       "    <tr>\n",
       "      <th>unique</th>\n",
       "      <td>49223</td>\n",
       "      <td>23</td>\n",
       "      <td>157</td>\n",
       "      <td>NaN</td>\n",
       "      <td>629</td>\n",
       "      <td>NaN</td>\n",
       "      <td>6735</td>\n",
       "      <td>8330</td>\n",
       "    </tr>\n",
       "    <tr>\n",
       "      <th>top</th>\n",
       "      <td>64654</td>\n",
       "      <td>subline_value_11</td>\n",
       "      <td>area_value_93</td>\n",
       "      <td>NaN</td>\n",
       "      <td>27-Jan-17</td>\n",
       "      <td>NaN</td>\n",
       "      <td>【暢銷熱賣排行】小法國村．南怡島美境．葡萄酒莊．普羅旺斯村．汗蒸幕．明洞東大門五日(無樂園)</td>\n",
       "      <td>&amp;lt;div class=\"div880\" align=\"center\"&amp;gt;&amp;lt;i...</td>\n",
       "    </tr>\n",
       "    <tr>\n",
       "      <th>freq</th>\n",
       "      <td>1</td>\n",
       "      <td>13089</td>\n",
       "      <td>5300</td>\n",
       "      <td>NaN</td>\n",
       "      <td>157</td>\n",
       "      <td>NaN</td>\n",
       "      <td>261</td>\n",
       "      <td>287</td>\n",
       "    </tr>\n",
       "    <tr>\n",
       "      <th>mean</th>\n",
       "      <td>NaN</td>\n",
       "      <td>NaN</td>\n",
       "      <td>NaN</td>\n",
       "      <td>6.245962</td>\n",
       "      <td>NaN</td>\n",
       "      <td>34705.866871</td>\n",
       "      <td>NaN</td>\n",
       "      <td>NaN</td>\n",
       "    </tr>\n",
       "    <tr>\n",
       "      <th>std</th>\n",
       "      <td>NaN</td>\n",
       "      <td>NaN</td>\n",
       "      <td>NaN</td>\n",
       "      <td>2.024880</td>\n",
       "      <td>NaN</td>\n",
       "      <td>20509.189141</td>\n",
       "      <td>NaN</td>\n",
       "      <td>NaN</td>\n",
       "    </tr>\n",
       "    <tr>\n",
       "      <th>min</th>\n",
       "      <td>NaN</td>\n",
       "      <td>NaN</td>\n",
       "      <td>NaN</td>\n",
       "      <td>2.000000</td>\n",
       "      <td>NaN</td>\n",
       "      <td>3000.000000</td>\n",
       "      <td>NaN</td>\n",
       "      <td>NaN</td>\n",
       "    </tr>\n",
       "    <tr>\n",
       "      <th>25%</th>\n",
       "      <td>NaN</td>\n",
       "      <td>NaN</td>\n",
       "      <td>NaN</td>\n",
       "      <td>5.000000</td>\n",
       "      <td>NaN</td>\n",
       "      <td>20900.000000</td>\n",
       "      <td>NaN</td>\n",
       "      <td>NaN</td>\n",
       "    </tr>\n",
       "    <tr>\n",
       "      <th>50%</th>\n",
       "      <td>NaN</td>\n",
       "      <td>NaN</td>\n",
       "      <td>NaN</td>\n",
       "      <td>5.000000</td>\n",
       "      <td>NaN</td>\n",
       "      <td>29900.000000</td>\n",
       "      <td>NaN</td>\n",
       "      <td>NaN</td>\n",
       "    </tr>\n",
       "    <tr>\n",
       "      <th>75%</th>\n",
       "      <td>NaN</td>\n",
       "      <td>NaN</td>\n",
       "      <td>NaN</td>\n",
       "      <td>8.000000</td>\n",
       "      <td>NaN</td>\n",
       "      <td>39900.000000</td>\n",
       "      <td>NaN</td>\n",
       "      <td>NaN</td>\n",
       "    </tr>\n",
       "    <tr>\n",
       "      <th>max</th>\n",
       "      <td>NaN</td>\n",
       "      <td>NaN</td>\n",
       "      <td>NaN</td>\n",
       "      <td>17.000000</td>\n",
       "      <td>NaN</td>\n",
       "      <td>222900.000000</td>\n",
       "      <td>NaN</td>\n",
       "      <td>NaN</td>\n",
       "    </tr>\n",
       "  </tbody>\n",
       "</table>\n",
       "</div>"
      ],
      "text/plain": [
       "       group_id          sub_line           area          days begin_date  \\\n",
       "count     49223             49223          49223  49223.000000      49223   \n",
       "unique    49223                23            157           NaN        629   \n",
       "top       64654  subline_value_11  area_value_93           NaN  27-Jan-17   \n",
       "freq          1             13089           5300           NaN        157   \n",
       "mean        NaN               NaN            NaN      6.245962        NaN   \n",
       "std         NaN               NaN            NaN      2.024880        NaN   \n",
       "min         NaN               NaN            NaN      2.000000        NaN   \n",
       "25%         NaN               NaN            NaN      5.000000        NaN   \n",
       "50%         NaN               NaN            NaN      5.000000        NaN   \n",
       "75%         NaN               NaN            NaN      8.000000        NaN   \n",
       "max         NaN               NaN            NaN     17.000000        NaN   \n",
       "\n",
       "                price                                    product_name  \\\n",
       "count    49223.000000                                           49218   \n",
       "unique            NaN                                            6735   \n",
       "top               NaN  【暢銷熱賣排行】小法國村．南怡島美境．葡萄酒莊．普羅旺斯村．汗蒸幕．明洞東大門五日(無樂園)   \n",
       "freq              NaN                                             261   \n",
       "mean     34705.866871                                             NaN   \n",
       "std      20509.189141                                             NaN   \n",
       "min       3000.000000                                             NaN   \n",
       "25%      20900.000000                                             NaN   \n",
       "50%      29900.000000                                             NaN   \n",
       "75%      39900.000000                                             NaN   \n",
       "max     222900.000000                                             NaN   \n",
       "\n",
       "                                           promotion_prog  \n",
       "count                                               49167  \n",
       "unique                                               8330  \n",
       "top     &lt;div class=\"div880\" align=\"center\"&gt;&lt;i...  \n",
       "freq                                                  287  \n",
       "mean                                                  NaN  \n",
       "std                                                   NaN  \n",
       "min                                                   NaN  \n",
       "25%                                                   NaN  \n",
       "50%                                                   NaN  \n",
       "75%                                                   NaN  \n",
       "max                                                   NaN  "
      ]
     },
     "execution_count": 8,
     "metadata": {},
     "output_type": "execute_result"
    }
   ],
   "source": [
    "df_group.describe(include = 'all')"
   ]
  },
  {
   "cell_type": "code",
   "execution_count": 9,
   "metadata": {},
   "outputs": [
    {
     "name": "stdout",
     "output_type": "stream",
     "text": [
      "<class 'pandas.core.frame.DataFrame'>\n",
      "RangeIndex: 104275 entries, 0 to 104274\n",
      "Data columns (total 6 columns):\n",
      "group_id       104275 non-null object\n",
      "go_back        104275 non-null object\n",
      "fly_time       104275 non-null object\n",
      "src_airport    104275 non-null object\n",
      "arrive_time    104275 non-null object\n",
      "dst_airport    104275 non-null object\n",
      "dtypes: object(6)\n",
      "memory usage: 4.8+ MB\n"
     ]
    }
   ],
   "source": [
    "df_airline.info()"
   ]
  },
  {
   "cell_type": "code",
   "execution_count": 10,
   "metadata": {},
   "outputs": [
    {
     "data": {
      "text/html": [
       "<div>\n",
       "<style scoped>\n",
       "    .dataframe tbody tr th:only-of-type {\n",
       "        vertical-align: middle;\n",
       "    }\n",
       "\n",
       "    .dataframe tbody tr th {\n",
       "        vertical-align: top;\n",
       "    }\n",
       "\n",
       "    .dataframe thead th {\n",
       "        text-align: right;\n",
       "    }\n",
       "</style>\n",
       "<table border=\"1\" class=\"dataframe\">\n",
       "  <thead>\n",
       "    <tr style=\"text-align: right;\">\n",
       "      <th></th>\n",
       "      <th>group_id</th>\n",
       "      <th>go_back</th>\n",
       "      <th>fly_time</th>\n",
       "      <th>src_airport</th>\n",
       "      <th>arrive_time</th>\n",
       "      <th>dst_airport</th>\n",
       "    </tr>\n",
       "  </thead>\n",
       "  <tbody>\n",
       "    <tr>\n",
       "      <th>0</th>\n",
       "      <td>63695</td>\n",
       "      <td>去程</td>\n",
       "      <td>2017/3/22 23:30</td>\n",
       "      <td>TPE 桃園機場</td>\n",
       "      <td>2017/3/22 14:15</td>\n",
       "      <td>HNL 檀香山機場</td>\n",
       "    </tr>\n",
       "    <tr>\n",
       "      <th>1</th>\n",
       "      <td>63695</td>\n",
       "      <td>回程</td>\n",
       "      <td>2017/4/1 14:30</td>\n",
       "      <td>LAX 洛杉機機場</td>\n",
       "      <td>2017/4/2 21:00</td>\n",
       "      <td>TPE 桃園機場</td>\n",
       "    </tr>\n",
       "    <tr>\n",
       "      <th>2</th>\n",
       "      <td>53481</td>\n",
       "      <td>去程</td>\n",
       "      <td>2017/5/17 23:00</td>\n",
       "      <td>TPE 桃園機場</td>\n",
       "      <td>2017/5/17 14:45</td>\n",
       "      <td>HNL 檀香山機場</td>\n",
       "    </tr>\n",
       "    <tr>\n",
       "      <th>3</th>\n",
       "      <td>53481</td>\n",
       "      <td>回程</td>\n",
       "      <td>2017/5/27 16:00</td>\n",
       "      <td>LAX 洛杉機機場</td>\n",
       "      <td>2017/5/28 21:05</td>\n",
       "      <td>TPE 桃園機場</td>\n",
       "    </tr>\n",
       "    <tr>\n",
       "      <th>4</th>\n",
       "      <td>54305</td>\n",
       "      <td>去程</td>\n",
       "      <td>2017/6/21 23:30</td>\n",
       "      <td>TPE 桃園機場</td>\n",
       "      <td>2017/6/21 14:15</td>\n",
       "      <td>HNL 檀香山機場</td>\n",
       "    </tr>\n",
       "  </tbody>\n",
       "</table>\n",
       "</div>"
      ],
      "text/plain": [
       "  group_id go_back         fly_time src_airport      arrive_time dst_airport\n",
       "0    63695      去程  2017/3/22 23:30    TPE 桃園機場  2017/3/22 14:15   HNL 檀香山機場\n",
       "1    63695      回程   2017/4/1 14:30   LAX 洛杉機機場   2017/4/2 21:00    TPE 桃園機場\n",
       "2    53481      去程  2017/5/17 23:00    TPE 桃園機場  2017/5/17 14:45   HNL 檀香山機場\n",
       "3    53481      回程  2017/5/27 16:00   LAX 洛杉機機場  2017/5/28 21:05    TPE 桃園機場\n",
       "4    54305      去程  2017/6/21 23:30    TPE 桃園機場  2017/6/21 14:15   HNL 檀香山機場"
      ]
     },
     "execution_count": 10,
     "metadata": {},
     "output_type": "execute_result"
    }
   ],
   "source": [
    "df_airline.head(5)"
   ]
  },
  {
   "cell_type": "code",
   "execution_count": 11,
   "metadata": {},
   "outputs": [
    {
     "data": {
      "text/html": [
       "<div>\n",
       "<style scoped>\n",
       "    .dataframe tbody tr th:only-of-type {\n",
       "        vertical-align: middle;\n",
       "    }\n",
       "\n",
       "    .dataframe tbody tr th {\n",
       "        vertical-align: top;\n",
       "    }\n",
       "\n",
       "    .dataframe thead th {\n",
       "        text-align: right;\n",
       "    }\n",
       "</style>\n",
       "<table border=\"1\" class=\"dataframe\">\n",
       "  <thead>\n",
       "    <tr style=\"text-align: right;\">\n",
       "      <th></th>\n",
       "      <th>group_id</th>\n",
       "      <th>go_back</th>\n",
       "      <th>fly_time</th>\n",
       "      <th>src_airport</th>\n",
       "      <th>arrive_time</th>\n",
       "      <th>dst_airport</th>\n",
       "    </tr>\n",
       "  </thead>\n",
       "  <tbody>\n",
       "    <tr>\n",
       "      <th>count</th>\n",
       "      <td>104275</td>\n",
       "      <td>104275</td>\n",
       "      <td>104275</td>\n",
       "      <td>104275</td>\n",
       "      <td>104275</td>\n",
       "      <td>104275</td>\n",
       "    </tr>\n",
       "    <tr>\n",
       "      <th>unique</th>\n",
       "      <td>48796</td>\n",
       "      <td>2</td>\n",
       "      <td>60216</td>\n",
       "      <td>204</td>\n",
       "      <td>60377</td>\n",
       "      <td>207</td>\n",
       "    </tr>\n",
       "    <tr>\n",
       "      <th>top</th>\n",
       "      <td>85c9b81cde3f2ca53424198d37189024</td>\n",
       "      <td>去程</td>\n",
       "      <td>2018/3/10 09:30</td>\n",
       "      <td>TPE 桃園機場</td>\n",
       "      <td>2017/8/14 13:30</td>\n",
       "      <td>TPE 桃園機場</td>\n",
       "    </tr>\n",
       "    <tr>\n",
       "      <th>freq</th>\n",
       "      <td>8</td>\n",
       "      <td>52223</td>\n",
       "      <td>10</td>\n",
       "      <td>40984</td>\n",
       "      <td>10</td>\n",
       "      <td>41125</td>\n",
       "    </tr>\n",
       "  </tbody>\n",
       "</table>\n",
       "</div>"
      ],
      "text/plain": [
       "                                group_id go_back         fly_time src_airport  \\\n",
       "count                             104275  104275           104275      104275   \n",
       "unique                             48796       2            60216         204   \n",
       "top     85c9b81cde3f2ca53424198d37189024      去程  2018/3/10 09:30    TPE 桃園機場   \n",
       "freq                                   8   52223               10       40984   \n",
       "\n",
       "            arrive_time dst_airport  \n",
       "count            104275      104275  \n",
       "unique            60377         207  \n",
       "top     2017/8/14 13:30    TPE 桃園機場  \n",
       "freq                 10       41125  "
      ]
     },
     "execution_count": 11,
     "metadata": {},
     "output_type": "execute_result"
    }
   ],
   "source": [
    "df_airline.describe(include = 'all')"
   ]
  },
  {
   "cell_type": "code",
   "execution_count": 12,
   "metadata": {},
   "outputs": [
    {
     "name": "stdout",
     "output_type": "stream",
     "text": [
      "<class 'pandas.core.frame.DataFrame'>\n",
      "RangeIndex: 307046 entries, 0 to 307045\n",
      "Data columns (total 3 columns):\n",
      "group_id    307046 non-null object\n",
      "day         307046 non-null float64\n",
      "title       307035 non-null object\n",
      "dtypes: float64(1), object(2)\n",
      "memory usage: 7.0+ MB\n"
     ]
    }
   ],
   "source": [
    "df_day_schedule.info()"
   ]
  },
  {
   "cell_type": "code",
   "execution_count": 13,
   "metadata": {},
   "outputs": [
    {
     "data": {
      "text/html": [
       "<div>\n",
       "<style scoped>\n",
       "    .dataframe tbody tr th:only-of-type {\n",
       "        vertical-align: middle;\n",
       "    }\n",
       "\n",
       "    .dataframe tbody tr th {\n",
       "        vertical-align: top;\n",
       "    }\n",
       "\n",
       "    .dataframe thead th {\n",
       "        text-align: right;\n",
       "    }\n",
       "</style>\n",
       "<table border=\"1\" class=\"dataframe\">\n",
       "  <thead>\n",
       "    <tr style=\"text-align: right;\">\n",
       "      <th></th>\n",
       "      <th>group_id</th>\n",
       "      <th>day</th>\n",
       "      <th>title</th>\n",
       "    </tr>\n",
       "  </thead>\n",
       "  <tbody>\n",
       "    <tr>\n",
       "      <th>0</th>\n",
       "      <td>63695</td>\n",
       "      <td>1.0</td>\n",
       "      <td>台北 [AIR]歐胡島市區觀光【州政府．皇宮．國王銅像．中國城】</td>\n",
       "    </tr>\n",
       "    <tr>\n",
       "      <th>1</th>\n",
       "      <td>63695</td>\n",
       "      <td>2.0</td>\n",
       "      <td>夏威夷小環島【鑽石頭山．恐龍灣．噴泉口】－珍珠港[BOATS]豪華愛之船Star of Ho...</td>\n",
       "    </tr>\n",
       "    <tr>\n",
       "      <th>2</th>\n",
       "      <td>63695</td>\n",
       "      <td>3.0</td>\n",
       "      <td>夏威夷 [AIR] 舊金山</td>\n",
       "    </tr>\n",
       "    <tr>\n",
       "      <th>3</th>\n",
       "      <td>63695</td>\n",
       "      <td>4.0</td>\n",
       "      <td>舊金山市區觀光【藝術宮．金門大橋．金門公園．漁人碼頭．金門灣遊船．市政廳．雙子峰．九曲花街】</td>\n",
       "    </tr>\n",
       "    <tr>\n",
       "      <th>4</th>\n",
       "      <td>63695</td>\n",
       "      <td>5.0</td>\n",
       "      <td>舊金山－300KM－優勝美地國家公園－100KM－佛雷斯諾</td>\n",
       "    </tr>\n",
       "  </tbody>\n",
       "</table>\n",
       "</div>"
      ],
      "text/plain": [
       "  group_id  day                                              title\n",
       "0    63695  1.0                   台北 [AIR]歐胡島市區觀光【州政府．皇宮．國王銅像．中國城】\n",
       "1    63695  2.0  夏威夷小環島【鑽石頭山．恐龍灣．噴泉口】－珍珠港[BOATS]豪華愛之船Star of Ho...\n",
       "2    63695  3.0                                      夏威夷 [AIR] 舊金山\n",
       "3    63695  4.0     舊金山市區觀光【藝術宮．金門大橋．金門公園．漁人碼頭．金門灣遊船．市政廳．雙子峰．九曲花街】\n",
       "4    63695  5.0                      舊金山－300KM－優勝美地國家公園－100KM－佛雷斯諾"
      ]
     },
     "execution_count": 13,
     "metadata": {},
     "output_type": "execute_result"
    }
   ],
   "source": [
    "df_day_schedule.head(5)"
   ]
  },
  {
   "cell_type": "code",
   "execution_count": 14,
   "metadata": {},
   "outputs": [
    {
     "data": {
      "text/html": [
       "<div>\n",
       "<style scoped>\n",
       "    .dataframe tbody tr th:only-of-type {\n",
       "        vertical-align: middle;\n",
       "    }\n",
       "\n",
       "    .dataframe tbody tr th {\n",
       "        vertical-align: top;\n",
       "    }\n",
       "\n",
       "    .dataframe thead th {\n",
       "        text-align: right;\n",
       "    }\n",
       "</style>\n",
       "<table border=\"1\" class=\"dataframe\">\n",
       "  <thead>\n",
       "    <tr style=\"text-align: right;\">\n",
       "      <th></th>\n",
       "      <th>group_id</th>\n",
       "      <th>day</th>\n",
       "      <th>title</th>\n",
       "    </tr>\n",
       "  </thead>\n",
       "  <tbody>\n",
       "    <tr>\n",
       "      <th>count</th>\n",
       "      <td>307046</td>\n",
       "      <td>307046.000000</td>\n",
       "      <td>307035</td>\n",
       "    </tr>\n",
       "    <tr>\n",
       "      <th>unique</th>\n",
       "      <td>49158</td>\n",
       "      <td>NaN</td>\n",
       "      <td>28034</td>\n",
       "    </tr>\n",
       "    <tr>\n",
       "      <th>top</th>\n",
       "      <td>10490</td>\n",
       "      <td>NaN</td>\n",
       "      <td>台北</td>\n",
       "    </tr>\n",
       "    <tr>\n",
       "      <th>freq</th>\n",
       "      <td>17</td>\n",
       "      <td>NaN</td>\n",
       "      <td>3586</td>\n",
       "    </tr>\n",
       "    <tr>\n",
       "      <th>mean</th>\n",
       "      <td>NaN</td>\n",
       "      <td>4.269119</td>\n",
       "      <td>NaN</td>\n",
       "    </tr>\n",
       "    <tr>\n",
       "      <th>std</th>\n",
       "      <td>NaN</td>\n",
       "      <td>2.682089</td>\n",
       "      <td>NaN</td>\n",
       "    </tr>\n",
       "    <tr>\n",
       "      <th>min</th>\n",
       "      <td>NaN</td>\n",
       "      <td>1.000000</td>\n",
       "      <td>NaN</td>\n",
       "    </tr>\n",
       "    <tr>\n",
       "      <th>25%</th>\n",
       "      <td>NaN</td>\n",
       "      <td>2.000000</td>\n",
       "      <td>NaN</td>\n",
       "    </tr>\n",
       "    <tr>\n",
       "      <th>50%</th>\n",
       "      <td>NaN</td>\n",
       "      <td>4.000000</td>\n",
       "      <td>NaN</td>\n",
       "    </tr>\n",
       "    <tr>\n",
       "      <th>75%</th>\n",
       "      <td>NaN</td>\n",
       "      <td>6.000000</td>\n",
       "      <td>NaN</td>\n",
       "    </tr>\n",
       "    <tr>\n",
       "      <th>max</th>\n",
       "      <td>NaN</td>\n",
       "      <td>17.000000</td>\n",
       "      <td>NaN</td>\n",
       "    </tr>\n",
       "  </tbody>\n",
       "</table>\n",
       "</div>"
      ],
      "text/plain": [
       "       group_id            day   title\n",
       "count    307046  307046.000000  307035\n",
       "unique    49158            NaN   28034\n",
       "top       10490            NaN      台北\n",
       "freq         17            NaN    3586\n",
       "mean        NaN       4.269119     NaN\n",
       "std         NaN       2.682089     NaN\n",
       "min         NaN       1.000000     NaN\n",
       "25%         NaN       2.000000     NaN\n",
       "50%         NaN       4.000000     NaN\n",
       "75%         NaN       6.000000     NaN\n",
       "max         NaN      17.000000     NaN"
      ]
     },
     "execution_count": 14,
     "metadata": {},
     "output_type": "execute_result"
    }
   ],
   "source": [
    "df_day_schedule.describe(include = 'all')"
   ]
  },
  {
   "cell_type": "code",
   "execution_count": 15,
   "metadata": {},
   "outputs": [
    {
     "name": "stdout",
     "output_type": "stream",
     "text": [
      "<class 'pandas.core.frame.DataFrame'>\n",
      "RangeIndex: 321 entries, 0 to 320\n",
      "Data columns (total 2 columns):\n",
      "file_name    321 non-null object\n",
      "url          321 non-null object\n",
      "dtypes: object(2)\n",
      "memory usage: 5.1+ KB\n"
     ]
    }
   ],
   "source": [
    "df_cache_map.info()"
   ]
  },
  {
   "cell_type": "code",
   "execution_count": 16,
   "metadata": {},
   "outputs": [
    {
     "data": {
      "text/html": [
       "<div>\n",
       "<style scoped>\n",
       "    .dataframe tbody tr th:only-of-type {\n",
       "        vertical-align: middle;\n",
       "    }\n",
       "\n",
       "    .dataframe tbody tr th {\n",
       "        vertical-align: top;\n",
       "    }\n",
       "\n",
       "    .dataframe thead th {\n",
       "        text-align: right;\n",
       "    }\n",
       "</style>\n",
       "<table border=\"1\" class=\"dataframe\">\n",
       "  <thead>\n",
       "    <tr style=\"text-align: right;\">\n",
       "      <th></th>\n",
       "      <th>file_name</th>\n",
       "      <th>url</th>\n",
       "    </tr>\n",
       "  </thead>\n",
       "  <tbody>\n",
       "    <tr>\n",
       "      <th>0</th>\n",
       "      <td>lion_cache_1.jpg</td>\n",
       "      <td>https://www.liontravel.com/Comm/2TRS/HotSale/p...</td>\n",
       "    </tr>\n",
       "    <tr>\n",
       "      <th>1</th>\n",
       "      <td>lion_cache_2.jpg</td>\n",
       "      <td>https://www.liontravel.com/Comm/2TRS/HotSale/p...</td>\n",
       "    </tr>\n",
       "    <tr>\n",
       "      <th>2</th>\n",
       "      <td>lion_cache_3.jpg</td>\n",
       "      <td>https://www.liontravel.com/Comm/2trs/hotsale/p...</td>\n",
       "    </tr>\n",
       "    <tr>\n",
       "      <th>3</th>\n",
       "      <td>lion_cache_4.jpg</td>\n",
       "      <td>https://www.liontravel.com/Comm/2TRS/HotSale/p...</td>\n",
       "    </tr>\n",
       "    <tr>\n",
       "      <th>4</th>\n",
       "      <td>lion_cache_5.jpg</td>\n",
       "      <td>https://www.liontravel.com/Comm/2TRS/HotSale/p...</td>\n",
       "    </tr>\n",
       "  </tbody>\n",
       "</table>\n",
       "</div>"
      ],
      "text/plain": [
       "          file_name                                                url\n",
       "0  lion_cache_1.jpg  https://www.liontravel.com/Comm/2TRS/HotSale/p...\n",
       "1  lion_cache_2.jpg  https://www.liontravel.com/Comm/2TRS/HotSale/p...\n",
       "2  lion_cache_3.jpg  https://www.liontravel.com/Comm/2trs/hotsale/p...\n",
       "3  lion_cache_4.jpg  https://www.liontravel.com/Comm/2TRS/HotSale/p...\n",
       "4  lion_cache_5.jpg  https://www.liontravel.com/Comm/2TRS/HotSale/p..."
      ]
     },
     "execution_count": 16,
     "metadata": {},
     "output_type": "execute_result"
    }
   ],
   "source": [
    "df_cache_map.head(5)"
   ]
  },
  {
   "cell_type": "code",
   "execution_count": 17,
   "metadata": {},
   "outputs": [
    {
     "data": {
      "text/html": [
       "<div>\n",
       "<style scoped>\n",
       "    .dataframe tbody tr th:only-of-type {\n",
       "        vertical-align: middle;\n",
       "    }\n",
       "\n",
       "    .dataframe tbody tr th {\n",
       "        vertical-align: top;\n",
       "    }\n",
       "\n",
       "    .dataframe thead th {\n",
       "        text-align: right;\n",
       "    }\n",
       "</style>\n",
       "<table border=\"1\" class=\"dataframe\">\n",
       "  <thead>\n",
       "    <tr style=\"text-align: right;\">\n",
       "      <th></th>\n",
       "      <th>file_name</th>\n",
       "      <th>url</th>\n",
       "    </tr>\n",
       "  </thead>\n",
       "  <tbody>\n",
       "    <tr>\n",
       "      <th>count</th>\n",
       "      <td>321</td>\n",
       "      <td>321</td>\n",
       "    </tr>\n",
       "    <tr>\n",
       "      <th>unique</th>\n",
       "      <td>321</td>\n",
       "      <td>321</td>\n",
       "    </tr>\n",
       "    <tr>\n",
       "      <th>top</th>\n",
       "      <td>lion_cache_20.jpg</td>\n",
       "      <td>https://www.liontravel.com/Comm/2TRS/HotSale/p...</td>\n",
       "    </tr>\n",
       "    <tr>\n",
       "      <th>freq</th>\n",
       "      <td>1</td>\n",
       "      <td>1</td>\n",
       "    </tr>\n",
       "  </tbody>\n",
       "</table>\n",
       "</div>"
      ],
      "text/plain": [
       "                file_name                                                url\n",
       "count                 321                                                321\n",
       "unique                321                                                321\n",
       "top     lion_cache_20.jpg  https://www.liontravel.com/Comm/2TRS/HotSale/p...\n",
       "freq                    1                                                  1"
      ]
     },
     "execution_count": 17,
     "metadata": {},
     "output_type": "execute_result"
    }
   ],
   "source": [
    "df_cache_map.describe(include = 'all')"
   ]
  },
  {
   "cell_type": "code",
   "execution_count": 18,
   "metadata": {},
   "outputs": [
    {
     "data": {
      "text/plain": [
       "<matplotlib.axes._subplots.AxesSubplot at 0x2350c2c3748>"
      ]
     },
     "execution_count": 18,
     "metadata": {},
     "output_type": "execute_result"
    },
    {
     "data": {
      "image/png": "[encoded data removed]",
      "text/plain": [
       "<Figure size 432x288 with 1 Axes>"
      ]
     },
     "metadata": {
      "needs_background": "light"
     },
     "output_type": "display_data"
    }
   ],
   "source": [
    "df_group['sub_line'].value_counts().plot.bar()"
   ]
  },
  {
   "cell_type": "code",
   "execution_count": 19,
   "metadata": {},
   "outputs": [
    {
     "data": {
      "text/plain": [
       "<matplotlib.axes._subplots.AxesSubplot at 0x23510914828>"
      ]
     },
     "execution_count": 19,
     "metadata": {},
     "output_type": "execute_result"
    },
    {
     "data": {
      "image/png": "[encoded data removed]",
      "text/plain": [
       "<Figure size 432x288 with 1 Axes>"
      ]
     },
     "metadata": {
      "needs_background": "light"
     },
     "output_type": "display_data"
    }
   ],
   "source": [
    "df_group['area'].value_counts().head(30).plot.bar()"
   ]
  },
  {
   "cell_type": "code",
   "execution_count": 20,
   "metadata": {},
   "outputs": [
    {
     "data": {
      "text/plain": [
       "<matplotlib.axes._subplots.AxesSubplot at 0x23577c9c898>"
      ]
     },
     "execution_count": 20,
     "metadata": {},
     "output_type": "execute_result"
    },
    {
     "data": {
      "image/png": "[encoded data removed]",
      "text/plain": [
       "<Figure size 432x288 with 1 Axes>"
      ]
     },
     "metadata": {
      "needs_background": "light"
     },
     "output_type": "display_data"
    }
   ],
   "source": [
    "df_group['days'].value_counts().sort_index().plot.bar()"
   ]
  },
  {
   "cell_type": "code",
   "execution_count": 21,
   "metadata": {},
   "outputs": [
    {
     "data": {
      "text/plain": [
       "<matplotlib.axes._subplots.AxesSubplot at 0x23510a8e6d8>"
      ]
     },
     "execution_count": 21,
     "metadata": {},
     "output_type": "execute_result"
    },
    {
     "data": {
      "image/png": "[encoded data removed]",
      "text/plain": [
       "<Figure size 432x288 with 1 Axes>"
      ]
     },
     "metadata": {
      "needs_background": "light"
     },
     "output_type": "display_data"
    }
   ],
   "source": [
    "df_group['begin_date'].value_counts().head(30).plot.bar()"
   ]
  },
  {
   "cell_type": "code",
   "execution_count": 22,
   "metadata": {},
   "outputs": [
    {
     "data": {
      "text/plain": [
       "<matplotlib.axes._subplots.AxesSubplot at 0x23510b06518>"
      ]
     },
     "execution_count": 22,
     "metadata": {},
     "output_type": "execute_result"
    },
    {
     "data": {
      "image/png": "[encoded data removed]",
      "text/plain": [
       "<Figure size 432x288 with 1 Axes>"
      ]
     },
     "metadata": {
      "needs_background": "light"
     },
     "output_type": "display_data"
    }
   ],
   "source": [
    "df_group['price'].value_counts().head(30).plot.bar()"
   ]
  },
  {
   "cell_type": "code",
   "execution_count": 23,
   "metadata": {},
   "outputs": [],
   "source": [
    "import matplotlib"
   ]
  },
  {
   "cell_type": "code",
   "execution_count": 24,
   "metadata": {},
   "outputs": [
    {
     "data": {
      "text/plain": [
       "<matplotlib.axes._subplots.AxesSubplot at 0x23510c524e0>"
      ]
     },
     "execution_count": 24,
     "metadata": {},
     "output_type": "execute_result"
    },
    {
     "name": "stderr",
     "output_type": "stream",
     "text": [
      "c:\\users\\myps9\\appdata\\local\\programs\\python\\python37\\lib\\site-packages\\matplotlib\\font_manager.py:1241: UserWarning: findfont: Font family ['sans-serif'] not found. Falling back to DejaVu Sans.\n",
      "  (prop.get_family(), self.defaultFamily[fontext]))\n"
     ]
    },
    {
     "data": {
      "image/png": "[encoded data removed]",
      "text/plain": [
       "<Figure size 432x288 with 1 Axes>"
      ]
     },
     "metadata": {
      "needs_background": "light"
     },
     "output_type": "display_data"
    }
   ],
   "source": [
    "#coding:utf-8\n",
    "import matplotlib\n",
    "import matplotlib.pyplot as plt\n",
    "from matplotlib.font_manager import findfont, FontProperties  \n",
    "import os.path\n",
    "matplotlib.__file__\n",
    "# zh_font = FontProperties(fname=os.path.abspath('wqy-microhei.ttc'))\n",
    "# myfonts = findfont(FontProperties(family=FontProperties(fname=os.path.abspath('NotoSansCJKtc-Black.otf')).get_family())) \n",
    "# myfont\n",
    "plt.rcParams['font.sans-serif'] = ['SimHei']\n",
    "df_group['product_name'].value_counts().head(30).plot.bar()"
   ]
  },
  {
   "cell_type": "code",
   "execution_count": 25,
   "metadata": {},
   "outputs": [
    {
     "data": {
      "text/plain": [
       "<matplotlib.axes._subplots.AxesSubplot at 0x23510cc5d30>"
      ]
     },
     "execution_count": 25,
     "metadata": {},
     "output_type": "execute_result"
    },
    {
     "data": {
      "image/png": "[encoded data removed]",
      "text/plain": [
       "<Figure size 432x288 with 1 Axes>"
      ]
     },
     "metadata": {
      "needs_background": "light"
     },
     "output_type": "display_data"
    }
   ],
   "source": [
    "df_order['order_date'].value_counts().head(30).plot.bar()"
   ]
  },
  {
   "cell_type": "code",
   "execution_count": 26,
   "metadata": {},
   "outputs": [
    {
     "data": {
      "text/plain": [
       "<matplotlib.axes._subplots.AxesSubplot at 0x23510d3b828>"
      ]
     },
     "execution_count": 26,
     "metadata": {},
     "output_type": "execute_result"
    },
    {
     "data": {
      "image/png": "[encoded data removed]",
      "text/plain": [
       "<Figure size 432x288 with 1 Axes>"
      ]
     },
     "metadata": {
      "needs_background": "light"
     },
     "output_type": "display_data"
    }
   ],
   "source": [
    "df_order['source_1'].value_counts().plot.bar()"
   ]
  },
  {
   "cell_type": "code",
   "execution_count": 27,
   "metadata": {},
   "outputs": [
    {
     "data": {
      "text/plain": [
       "<matplotlib.axes._subplots.AxesSubplot at 0x23510e5fa90>"
      ]
     },
     "execution_count": 27,
     "metadata": {},
     "output_type": "execute_result"
    },
    {
     "data": {
      "image/png": "[encoded data removed]",
      "text/plain": [
       "<Figure size 432x288 with 1 Axes>"
      ]
     },
     "metadata": {
      "needs_background": "light"
     },
     "output_type": "display_data"
    }
   ],
   "source": [
    "df_order['source_2'].value_counts().plot.bar()"
   ]
  },
  {
   "cell_type": "code",
   "execution_count": 28,
   "metadata": {},
   "outputs": [
    {
     "data": {
      "text/plain": [
       "<matplotlib.axes._subplots.AxesSubplot at 0x23511372e48>"
      ]
     },
     "execution_count": 28,
     "metadata": {},
     "output_type": "execute_result"
    },
    {
     "data": {
      "image/png": "[encoded data removed]",
      "text/plain": [
       "<Figure size 432x288 with 1 Axes>"
      ]
     },
     "metadata": {
      "needs_background": "light"
     },
     "output_type": "display_data"
    }
   ],
   "source": [
    "df_order['unit'].value_counts().head(30).plot.bar()"
   ]
  },
  {
   "cell_type": "code",
   "execution_count": 29,
   "metadata": {},
   "outputs": [
    {
     "data": {
      "text/plain": [
       "<matplotlib.axes._subplots.AxesSubplot at 0x23512403e48>"
      ]
     },
     "execution_count": 29,
     "metadata": {},
     "output_type": "execute_result"
    },
    {
     "data": {
      "image/png": "[encoded data removed]",
      "text/plain": [
       "<Figure size 432x288 with 1 Axes>"
      ]
     },
     "metadata": {
      "needs_background": "light"
     },
     "output_type": "display_data"
    }
   ],
   "source": [
    "df_order['people_amount'].value_counts().head(30).plot.bar()"
   ]
  },
  {
   "cell_type": "code",
   "execution_count": 30,
   "metadata": {},
   "outputs": [
    {
     "data": {
      "text/plain": [
       "<matplotlib.axes._subplots.AxesSubplot at 0x235123f8e10>"
      ]
     },
     "execution_count": 30,
     "metadata": {},
     "output_type": "execute_result"
    },
    {
     "data": {
      "image/png": "[encoded data removed]",
      "text/plain": [
       "<Figure size 432x288 with 1 Axes>"
      ]
     },
     "metadata": {
      "needs_background": "light"
     },
     "output_type": "display_data"
    }
   ],
   "source": [
    "df_day_schedule['day'].value_counts().plot.bar()"
   ]
  },
  {
   "cell_type": "code",
   "execution_count": 31,
   "metadata": {},
   "outputs": [
    {
     "data": {
      "text/plain": [
       "<matplotlib.axes._subplots.AxesSubplot at 0x2351256a5f8>"
      ]
     },
     "execution_count": 31,
     "metadata": {},
     "output_type": "execute_result"
    },
    {
     "data": {
      "image/png": "[encoded data removed]",
      "text/plain": [
       "<Figure size 432x288 with 1 Axes>"
      ]
     },
     "metadata": {
      "needs_background": "light"
     },
     "output_type": "display_data"
    }
   ],
   "source": [
    "df_day_schedule['title'].value_counts().head(20).plot.bar()"
   ]
  },
  {
   "cell_type": "code",
   "execution_count": 32,
   "metadata": {},
   "outputs": [
    {
     "name": "stderr",
     "output_type": "stream",
     "text": [
      "c:\\users\\myps9\\appdata\\local\\programs\\python\\python37\\lib\\site-packages\\seaborn\\categorical.py:3666: UserWarning: The `factorplot` function has been renamed to `catplot`. The original name will be removed in a future release. Please update your code. Note that the default `kind` in `factorplot` (`'point'`) has changed `'strip'` in `catplot`.\n",
      "  warnings.warn(msg)\n"
     ]
    },
    {
     "data": {
      "text/plain": [
       "<seaborn.axisgrid.FacetGrid at 0x235125bc128>"
      ]
     },
     "execution_count": 32,
     "metadata": {},
     "output_type": "execute_result"
    },
    {
     "data": {
      "image/png": "[encoded data removed]",
      "text/plain": [
       "<Figure size 445x360 with 1 Axes>"
      ]
     },
     "metadata": {
      "needs_background": "light"
     },
     "output_type": "display_data"
    }
   ],
   "source": [
    "sns.factorplot('unit', data=df_order, hue='people_amount', \n",
    "               order=['unit_value_6', 'unit_value_1', 'unit_value_16'], \n",
    "               hue_order=[2, 1, 4, 3, 6, 5], kind='count')"
   ]
  },
  {
   "cell_type": "code",
   "execution_count": 33,
   "metadata": {},
   "outputs": [
    {
     "data": {
      "text/plain": [
       "<seaborn.axisgrid.FacetGrid at 0x235126114a8>"
      ]
     },
     "execution_count": 33,
     "metadata": {},
     "output_type": "execute_result"
    },
    {
     "data": {
      "image/png": "[encoded data removed]",
      "text/plain": [
       "<Figure size 461x360 with 1 Axes>"
      ]
     },
     "metadata": {
      "needs_background": "light"
     },
     "output_type": "display_data"
    }
   ],
   "source": [
    "sns.factorplot('source_1', data=df_order, hue='source_2', kind='count')"
   ]
  },
  {
   "cell_type": "code",
   "execution_count": 39,
   "metadata": {},
   "outputs": [
    {
     "name": "stdout",
     "output_type": "stream",
     "text": [
      "<class 'pandas.core.frame.DataFrame'>\n",
      "Int64Index: 297020 entries, 0 to 297019\n",
      "Data columns (total 27 columns):\n",
      "order_id            297020 non-null object\n",
      "deal_or_not         297020 non-null int64\n",
      "group_id            297020 non-null object\n",
      "order_date          297020 non-null object\n",
      "source_1            297020 non-null object\n",
      "source_2            297020 non-null object\n",
      "unit                297020 non-null object\n",
      "people_amount       297020 non-null int64\n",
      "sub_line            297020 non-null object\n",
      "area                297020 non-null object\n",
      "days                297020 non-null float64\n",
      "begin_date          297020 non-null object\n",
      "price               297020 non-null float64\n",
      "product_name        297013 non-null object\n",
      "promotion_prog      296942 non-null object\n",
      "go_group_id         295998 non-null object\n",
      "go_go_back          295998 non-null object\n",
      "go_fly_time         295998 non-null object\n",
      "go_src_airport      295998 non-null object\n",
      "go_arrive_time      295998 non-null object\n",
      "go_dst_airport      295998 non-null object\n",
      "back_group_id       295998 non-null object\n",
      "back_go_back        295998 non-null object\n",
      "back_fly_time       295998 non-null object\n",
      "back_src_airport    295998 non-null object\n",
      "back_arrive_time    295998 non-null object\n",
      "back_dst_airport    295998 non-null object\n",
      "dtypes: float64(2), int64(2), object(23)\n",
      "memory usage: 63.5+ MB\n",
      "None\n"
     ]
    }
   ],
   "source": [
    "import warnings\n",
    "warnings.filterwarnings(\"ignore\", category=DeprecationWarning) \n",
    "\n",
    "import pandas as pd\n",
    "%matplotlib inline \n",
    "import matplotlib.pyplot as plt\n",
    "import seaborn as sns\n",
    "sns.set_style('whitegrid')\n",
    "\n",
    "dtypes = {\n",
    "    'order_id' : 'object',\n",
    "    'group_id' : 'object'\n",
    "}\n",
    "\n",
    "# load dataset\n",
    "df_airline = pd.read_csv('../data/dataset/airline.csv',dtype=dtypes)\n",
    "df_cache_map = pd.read_csv('../data/dataset/cache_map.csv', dtype=dtypes)\n",
    "df_day_schedule = pd.read_csv('../data/dataset/day_schedule.csv', dtype=dtypes)\n",
    "df_group = pd.read_csv('../data/dataset/group.csv',dtype=dtypes)\n",
    "df_order = pd.read_csv('../data/dataset/order.csv', dtype=dtypes)\n",
    "df_test = pd.read_csv('../data/testing-set.csv', dtype=dtypes)\n",
    "df_train = pd.read_csv('../data/training-set.csv', dtype=dtypes)\n",
    "\n",
    "df_total = df_order.merge(df_group, on = 'group_id')\n",
    "\n",
    "go_back = df_airline.groupby(\"go_back\")\n",
    "df_go = go_back.get_group(\"去程\")\n",
    "df_back = go_back.get_group(\"回程\")\n",
    "df_go.columns = ['go_' + str(col) for col in df_go.columns]\n",
    "df_back.columns = ['back_' + str(col) for col in df_back.columns]\n",
    "df_go = df_go.drop_duplicates(subset=['go_group_id', 'go_go_back'], keep='first')\n",
    "df_back = df_back.drop_duplicates(subset=['back_group_id', 'back_go_back'], keep='last')\n",
    "df_new_airline = pd.merge(df_go, df_back, left_on=['go_group_id'], right_on=['back_group_id'])\n",
    "df_total = df_total.merge(df_new_airline, how='left', left_on='group_id', right_on='go_group_id')\n",
    "\n",
    "df_merge_train = df_train.merge(df_total, on='order_id')\n",
    "\n",
    "print(df_merge_train.info())"
   ]
  },
  {
   "cell_type": "code",
   "execution_count": 40,
   "metadata": {},
   "outputs": [
    {
     "name": "stderr",
     "output_type": "stream",
     "text": [
      "c:\\users\\myps9\\appdata\\local\\programs\\python\\python37\\lib\\site-packages\\seaborn\\categorical.py:3666: UserWarning: The `factorplot` function has been renamed to `catplot`. The original name will be removed in a future release. Please update your code. Note that the default `kind` in `factorplot` (`'point'`) has changed `'strip'` in `catplot`.\n",
      "  warnings.warn(msg)\n"
     ]
    },
    {
     "data": {
      "text/plain": [
       "<seaborn.axisgrid.FacetGrid at 0x23512adc668>"
      ]
     },
     "execution_count": 40,
     "metadata": {},
     "output_type": "execute_result"
    },
    {
     "data": {
      "image/png": "[encoded data removed]",
      "text/plain": [
       "<Figure size 465.225x360 with 1 Axes>"
      ]
     },
     "metadata": {},
     "output_type": "display_data"
    }
   ],
   "source": [
    "sns.factorplot('source_1', data=df_merge_train, hue='source_2', kind='count')"
   ]
  },
  {
   "cell_type": "code",
   "execution_count": 41,
   "metadata": {},
   "outputs": [
    {
     "data": {
      "text/plain": [
       "<seaborn.axisgrid.FacetGrid at 0x2350b567d68>"
      ]
     },
     "execution_count": 41,
     "metadata": {},
     "output_type": "execute_result"
    },
    {
     "data": {
      "image/png": "[encoded data removed]",
      "text/plain": [
       "<Figure size 798.8x360 with 2 Axes>"
      ]
     },
     "metadata": {},
     "output_type": "display_data"
    }
   ],
   "source": [
    "sns.factorplot('unit', data=df_merge_train, hue='people_amount', col='deal_or_not',\n",
    "               order=['unit_value_6', 'unit_value_1', 'unit_value_16'], \n",
    "               hue_order=[2, 1, 4, 3, 6, 5], kind='count')"
   ]
  },
  {
   "cell_type": "code",
   "execution_count": 42,
   "metadata": {},
   "outputs": [
    {
     "data": {
      "text/plain": [
       "<seaborn.axisgrid.FacetGrid at 0x23512b0d828>"
      ]
     },
     "execution_count": 42,
     "metadata": {},
     "output_type": "execute_result"
    },
    {
     "data": {
      "image/png": "[encoded data removed]",
      "text/plain": [
       "<Figure size 360x360 with 1 Axes>"
      ]
     },
     "metadata": {},
     "output_type": "display_data"
    }
   ],
   "source": [
    "sns.factorplot('deal_or_not', data=df_train, kind='count')"
   ]
  },
  {
   "cell_type": "code",
   "execution_count": 43,
   "metadata": {},
   "outputs": [
    {
     "data": {
      "text/plain": [
       "<seaborn.axisgrid.FacetGrid at 0x2350887ac88>"
      ]
     },
     "execution_count": 43,
     "metadata": {},
     "output_type": "execute_result"
    },
    {
     "data": {
      "image/png": "[encoded data removed]",
      "text/plain": [
       "<Figure size 720x360 with 2 Axes>"
      ]
     },
     "metadata": {},
     "output_type": "display_data"
    }
   ],
   "source": [
    "sns.factorplot('source_1', data=df_merge_train, col='deal_or_not', kind='count')"
   ]
  },
  {
   "cell_type": "markdown",
   "metadata": {},
   "source": [
    "sns.factorplot('source_2', data=df_merge_train, col='deal_or_not', kind='count')"
   ]
  },
  {
   "cell_type": "code",
   "execution_count": 44,
   "metadata": {},
   "outputs": [
    {
     "data": {
      "text/plain": [
       "<seaborn.axisgrid.FacetGrid at 0x23533d2e128>"
      ]
     },
     "execution_count": 44,
     "metadata": {},
     "output_type": "execute_result"
    },
    {
     "data": {
      "image/png": "[encoded data removed]",
      "text/plain": [
       "<Figure size 720x360 with 2 Axes>"
      ]
     },
     "metadata": {},
     "output_type": "display_data"
    }
   ],
   "source": [
    "sns.factorplot('source_2', data=df_merge_train, col='deal_or_not', kind='count')"
   ]
  },
  {
   "cell_type": "code",
   "execution_count": 45,
   "metadata": {},
   "outputs": [
    {
     "data": {
      "text/plain": [
       "<seaborn.axisgrid.FacetGrid at 0x235282db080>"
      ]
     },
     "execution_count": 45,
     "metadata": {},
     "output_type": "execute_result"
    },
    {
     "data": {
      "image/png": "[encoded data removed]",
      "text/plain": [
       "<Figure size 720x360 with 2 Axes>"
      ]
     },
     "metadata": {},
     "output_type": "display_data"
    }
   ],
   "source": [
    "sns.factorplot('days', data=df_merge_train, col='deal_or_not',\n",
    "               order=df_merge_train.days.value_counts().iloc[:10].index, kind='count')"
   ]
  },
  {
   "cell_type": "code",
   "execution_count": 46,
   "metadata": {},
   "outputs": [
    {
     "data": {
      "text/plain": [
       "<seaborn.axisgrid.FacetGrid at 0x23513fea160>"
      ]
     },
     "execution_count": 46,
     "metadata": {},
     "output_type": "execute_result"
    },
    {
     "data": {
      "image/png": "[encoded data removed]",
      "text/plain": [
       "<Figure size 720x360 with 2 Axes>"
      ]
     },
     "metadata": {},
     "output_type": "display_data"
    }
   ],
   "source": [
    "g = sns.factorplot('sub_line', data=df_merge_train, col='deal_or_not',\n",
    "               order=df_merge_train.sub_line.value_counts().iloc[:10].index, kind='count')\n",
    "g.set_xticklabels(rotation=90)"
   ]
  },
  {
   "cell_type": "code",
   "execution_count": 47,
   "metadata": {},
   "outputs": [
    {
     "data": {
      "text/plain": [
       "<seaborn.axisgrid.FacetGrid at 0x235130cd160>"
      ]
     },
     "execution_count": 47,
     "metadata": {},
     "output_type": "execute_result"
    },
    {
     "data": {
      "image/png": "[encoded data removed]",
      "text/plain": [
       "<Figure size 720x360 with 2 Axes>"
      ]
     },
     "metadata": {},
     "output_type": "display_data"
    }
   ],
   "source": [
    "g = sns.factorplot('area', data=df_merge_train, col='deal_or_not',\n",
    "               order=df_merge_train.area.value_counts().iloc[:10].index, kind='count')\n",
    "g.set_xticklabels(rotation=90)"
   ]
  },
  {
   "cell_type": "code",
   "execution_count": null,
   "metadata": {},
   "outputs": [],
   "source": []
  }
 ],
 "metadata": {
  "kernelspec": {
   "display_name": "Python 3",
   "language": "python",
   "name": "python3"
  },
  "language_info": {
   "codemirror_mode": {
    "name": "ipython",
    "version": 3
   },
   "file_extension": ".py",
   "mimetype": "text/x-python",
   "name": "python",
   "nbconvert_exporter": "python",
   "pygments_lexer": "ipython3",
   "version": "3.7.1"
  }
 },
 "nbformat": 4,
 "nbformat_minor": 2
}
